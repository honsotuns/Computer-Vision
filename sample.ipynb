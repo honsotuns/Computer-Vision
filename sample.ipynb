{
 "cells": [
  {
   "cell_type": "code",
   "execution_count": 2,
   "metadata": {},
   "outputs": [],
   "source": [
    "\n",
    "import random\n",
    "\n",
    "class RockPaper:\n",
    "\n",
    "    def __init__(self, choices_list):\n",
    "        self.choices_list = choices_list\n",
    "        #choices = [' rock', 'paper', 'scissors']\n",
    "        \n",
    "    def get_user_choice(self):\n",
    "        user_choice = input(' Kindly input your choice').lower() #random.choice(choices_list)\n",
    "        if user_choice not in self.choices_list:\n",
    "            print('Kindly enter a valid choice')\n",
    "        \n",
    "        elif user_choice in self.choices_list:\n",
    "            print('Computer will make its choice')\n",
    "        return user_choice"
   ]
  }
 ],
 "metadata": {
  "kernelspec": {
   "display_name": "Python 3.10.5 64-bit",
   "language": "python",
   "name": "python3"
  },
  "language_info": {
   "codemirror_mode": {
    "name": "ipython",
    "version": 3
   },
   "file_extension": ".py",
   "mimetype": "text/x-python",
   "name": "python",
   "nbconvert_exporter": "python",
   "pygments_lexer": "ipython3",
   "version": "3.10.5"
  },
  "orig_nbformat": 4,
  "vscode": {
   "interpreter": {
    "hash": "d3e10ef16274dd72e574b8fa73b58450b957d8421a2901baded3cca26fcf5dda"
   }
  }
 },
 "nbformat": 4,
 "nbformat_minor": 2
}
